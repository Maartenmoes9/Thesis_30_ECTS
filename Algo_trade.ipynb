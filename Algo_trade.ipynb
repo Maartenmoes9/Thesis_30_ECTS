{
 "cells": [
  {
   "cell_type": "code",
   "execution_count": 3,
   "metadata": {},
   "outputs": [],
   "source": [
    "#reference from: https://algotrading101.com/learn/reddit-wallstreetbets-web-scraping/\n",
    "from selenium import webdriver\n",
    "from collections import Counter\n",
    "import numpy as np\n",
    "from datetime import date,timedelta\n",
    "from dateutil.parser import parse "
   ]
  },
  {
   "cell_type": "code",
   "execution_count": 5,
   "metadata": {},
   "outputs": [],
   "source": [
    "def grab_html():\n",
    "     url = 'https://www.reddit.com/r/wallstreetbets/search/?q=flair%3A%22Daily%20Discussion%22&restrict_sr=1&sort=new'\n",
    "     driver = webdriver.Chrome(executable_path=r'c:\\chromedriver.exe')\n",
    "     driver.get(url)\n",
    "     return driver"
   ]
  },
  {
   "cell_type": "code",
   "execution_count": 6,
   "metadata": {},
   "outputs": [
    {
     "ename": "SyntaxError",
     "evalue": "invalid character '—' (U+2014) (3230997438.py, line 2)",
     "output_type": "error",
     "traceback": [
      "\u001b[1;36m  Cell \u001b[1;32mIn [6], line 2\u001b[1;36m\u001b[0m\n\u001b[1;33m    yesterday = date.today() — timedelta(days=1)\u001b[0m\n\u001b[1;37m                             ^\u001b[0m\n\u001b[1;31mSyntaxError\u001b[0m\u001b[1;31m:\u001b[0m invalid character '—' (U+2014)\n"
     ]
    }
   ],
   "source": [
    "def grab_link(driver):\n",
    "     yesterday = date.today() — timedelta(days=1)\n",
    "     links = driver.find_elements_by_xpath\n",
    "             ('//[@class=\"_eYtD2XCVieq6emjKBH3m\"]') "
   ]
  },
  {
   "cell_type": "code",
   "execution_count": null,
   "metadata": {},
   "outputs": [],
   "source": [
    "for a in links:\n",
    "         if a.text.startswith(‘Daily Discussion Thread’):\n",
    "             date = “”.join(a.text.split(‘ ‘)[-3:])\n",
    "             parsed = parse(date) \n",
    "             if parse(str(yesterday)) == parsed:\n",
    "                link = a.find_element_by_xpath(‘../..’).\n",
    "                       get_attribute(‘href’)\n",
    "        if a.text.startswith(‘Weekend’):\n",
    "             weekend_date = a.text.split(‘ ‘)\n",
    "             parsed_date = weekend_date[-3] + ‘ ‘ + /\n",
    "                           weekend_date[-2].split(“-”)[1] + \n",
    "                           weekend_date[-1] \n",
    "         parsed = parse(parsed_date) \n",
    "         saturday = weekend_date[-3] + ‘ ‘ +   /\n",
    "                   str(int(weekend_date[-2].split(“-”)[1]                            \n",
    "                    .replace(‘,’,’’)) — 1) + ‘ ‘ + weekend_date[-1] \n",
    "         \n",
    "             if parse(str(yesterday)) == parsed: \n",
    "                link = a.find_element_by_xpath(‘../..’)\n",
    "                       .get_attribute(‘href’)\n",
    "             elif parse(str(yesterday)) == parse(str(saturday)):\n",
    "                link = a.find_element_by_xpath(‘../..’)\n",
    "                       .get_attribute(‘href’) \n",
    "    stock_link = link.split('/')[-3]\n",
    "    driver.close() \n",
    "    return stock_link"
   ]
  },
  {
   "cell_type": "code",
   "execution_count": null,
   "metadata": {},
   "outputs": [],
   "source": [
    "def grab_commentid_list(stock_link):\n",
    "    html = requests.get(f'https://api.pushshift.io/reddit/\n",
    "           submission/comment_ids/{stock_link}')\n",
    "    raw_comment_list = html.json()\n",
    "    return raw_comment_list"
   ]
  },
  {
   "cell_type": "code",
   "execution_count": null,
   "metadata": {},
   "outputs": [],
   "source": [
    "def grab_stocklist():\n",
    "    with open('stockslist.txt', 'r') as w:\n",
    "        stocks = w.readlines()\n",
    "        stocks_list = []\n",
    "        for a in stocks:\n",
    "            a = a.replace('\\n','')\n",
    "            stocks_list.append(a)\n",
    "   return stocks_list"
   ]
  },
  {
   "cell_type": "code",
   "execution_count": null,
   "metadata": {},
   "outputs": [],
   "source": [
    "def get_comments(comment_list):\n",
    "     html = requests.get(f’https://api.pushshift.io/reddit/comment/\n",
    "            search?ids={comment_list}&fields=body&size=1000')\n",
    " \n",
    "    newcomments = html.json()\n",
    "    return newcomments"
   ]
  },
  {
   "cell_type": "code",
   "execution_count": null,
   "metadata": {},
   "outputs": [],
   "source": [
    "def get_stock_list(newcomments,stocks_list):\n",
    "      stock_dict = Counter()\n",
    "      for a in newcomments['data']:\n",
    "            for ticker in stocks_list:\n",
    "                if ticker in a['body']:\n",
    "                    stock_dict[ticker]+=1\n",
    "      return stock_dict"
   ]
  },
  {
   "cell_type": "code",
   "execution_count": null,
   "metadata": {},
   "outputs": [],
   "source": [
    "def grab_stock_count(stock_dict,raw_comment_list):\n",
    "     orig_list = np.array(raw_comment_list['data'])\n",
    "     comment_list = \",\".join(orig_list[0:1000])\n",
    "     remove_me = slice(0,1000)\n",
    "     cleaned = np.delete(orig_list, remove_me)\n",
    "     i = 0\n",
    "     while i < len(cleaned):\n",
    "        print(len(cleaned))\n",
    "        cleaned = np.delete(cleaned, remove_me)\n",
    "        new_comments_list = \",\".join(cleaned[0:1000])\n",
    "        newcomments = get_comments(new_comments_list)\n",
    "        get_stock_list(newcomments,stocks_list)\n",
    "     stock = dict(stock_dict) \n",
    "     return stock"
   ]
  },
  {
   "cell_type": "code",
   "execution_count": null,
   "metadata": {},
   "outputs": [],
   "source": [
    "if __name__ == \"__main__\":\n",
    "    driver = grab_html()\n",
    "    stock_link = grab_link(driver)\n",
    "    grab_commentid_list(stock_link) \n",
    "    stockslist = grab_stocklist()\n",
    "    newcomments = get_comments(comment_list)\n",
    "    stock_dict = get_stock_list(new_comments,stocks_list)\n",
    "    stock = grab_stock_count(stock_dict)"
   ]
  }
 ],
 "metadata": {
  "kernelspec": {
   "display_name": "Python 3",
   "language": "python",
   "name": "python3"
  },
  "language_info": {
   "codemirror_mode": {
    "name": "ipython",
    "version": 3
   },
   "file_extension": ".py",
   "mimetype": "text/x-python",
   "name": "python",
   "nbconvert_exporter": "python",
   "pygments_lexer": "ipython3",
   "version": "3.10.0"
  },
  "orig_nbformat": 4,
  "vscode": {
   "interpreter": {
    "hash": "19f9ddf3622c0b1569490fd927172cf777b9021a692f6f37361c5e5933f47574"
   }
  }
 },
 "nbformat": 4,
 "nbformat_minor": 2
}
