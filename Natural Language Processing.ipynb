{
 "cells": [
  {
   "attachments": {},
   "cell_type": "markdown",
   "metadata": {},
   "source": [
    "# Scraping"
   ]
  },
  {
   "attachments": {},
   "cell_type": "markdown",
   "metadata": {},
   "source": [
    "## Importing libraries"
   ]
  },
  {
   "cell_type": "code",
   "execution_count": 1,
   "metadata": {},
   "outputs": [],
   "source": [
    "import pandas as pd \n",
    "import numpy as np\n",
    "import datetime\n",
    "import pytz"
   ]
  },
  {
   "attachments": {},
   "cell_type": "markdown",
   "metadata": {},
   "source": [
    "## Defning the dataset that has been scraped by Scraping python script"
   ]
  },
  {
   "cell_type": "code",
   "execution_count": 3,
   "metadata": {},
   "outputs": [
    {
     "name": "stderr",
     "output_type": "stream",
     "text": [
      "C:\\Users\\maart\\AppData\\Local\\Temp\\ipykernel_9600\\369132780.py:1: DtypeWarning: Columns (7,8,9,10,11,12,13,14) have mixed types. Specify dtype option on import or set low_memory=False.\n",
      "  df = pd.read_csv('Tesla_Comments_filtered.csv', delimiter=\";\")\n"
     ]
    }
   ],
   "source": [
    "df = pd.read_csv('Tesla_Comments_filtered.csv', delimiter=\";\")\n"
   ]
  },
  {
   "cell_type": "code",
   "execution_count": 4,
   "metadata": {},
   "outputs": [],
   "source": [
    "df = df[['subreddit','id','body','created_utc','parent_id']]\n"
   ]
  },
  {
   "attachments": {},
   "cell_type": "markdown",
   "metadata": {},
   "source": [
    "## Numerical transformation"
   ]
  },
  {
   "cell_type": "code",
   "execution_count": 5,
   "metadata": {},
   "outputs": [],
   "source": [
    "# Convert \"body\" column to integers\n",
    "df['created_utc'] = pd.to_numeric(df['created_utc'], errors='coerce')\n",
    "df = df.dropna(subset=['created_utc'])\n",
    "\n",
    "# Define function to convert Unix timestamp to datetime object\n",
    "def unix_to_datetime(timestamp):\n",
    "    return datetime.datetime.fromtimestamp(timestamp)\n",
    "\n",
    "# Apply function to Unix timestamp column\n",
    "df['date'] = df['created_utc'].apply(unix_to_datetime)"
   ]
  },
  {
   "cell_type": "code",
   "execution_count": 6,
   "metadata": {},
   "outputs": [
    {
     "name": "stdout",
     "output_type": "stream",
     "text": [
      "20149\n"
     ]
    }
   ],
   "source": [
    "print(df['body'].isnull().sum())"
   ]
  },
  {
   "cell_type": "code",
   "execution_count": 7,
   "metadata": {},
   "outputs": [],
   "source": [
    "df.dropna(inplace=True)"
   ]
  },
  {
   "attachments": {},
   "cell_type": "markdown",
   "metadata": {},
   "source": [
    "## Usage of pysentimiento to create sentiment scores"
   ]
  },
  {
   "cell_type": "code",
   "execution_count": null,
   "metadata": {},
   "outputs": [],
   "source": [
    "from pysentimiento import create_analyzer\n",
    "emotion_analyzer = create_analyzer(task=\"sentiment\", lang=\"en\")"
   ]
  },
  {
   "cell_type": "code",
   "execution_count": null,
   "metadata": {},
   "outputs": [],
   "source": [
    "# Be aware applying this model takes approx two hours to run\n",
    "#Using the emotion analyer on all reddit comments and put it under a new column \n",
    "df['emotion'] = df['body'].apply(emotion_analyzer.predict)\n"
   ]
  },
  {
   "cell_type": "code",
   "execution_count": null,
   "metadata": {},
   "outputs": [],
   "source": [
    "#This was done to list the probabilities of the analyzeroutput\n",
    "df['probas'] = df['emotion'].apply(lambda x: list(x.probas.items()))\n"
   ]
  },
  {
   "attachments": {},
   "cell_type": "markdown",
   "metadata": {},
   "source": [
    "## Calculating the sentiment scores as one for every reddit comment"
   ]
  },
  {
   "cell_type": "code",
   "execution_count": 11,
   "metadata": {},
   "outputs": [],
   "source": [
    "#This was done to get a score that can be used in the next step to match frequencies with stock prices\n",
    "\n",
    "calc_reg_output = lambda row: -1 * row['probas'][0][1] + 0 * row['probas'][1][1] + 1 * row['probas'][2][1]\n"
   ]
  },
  {
   "cell_type": "code",
   "execution_count": 12,
   "metadata": {},
   "outputs": [
    {
     "ename": "KeyError",
     "evalue": "'probas'",
     "output_type": "error",
     "traceback": [
      "\u001b[1;31m---------------------------------------------------------------------------\u001b[0m",
      "\u001b[1;31mKeyError\u001b[0m                                  Traceback (most recent call last)",
      "File \u001b[1;32m~\\AppData\\Local\\Packages\\PythonSoftwareFoundation.Python.3.10_qbz5n2kfra8p0\\LocalCache\\local-packages\\Python310\\site-packages\\pandas\\core\\indexes\\base.py:3802\u001b[0m, in \u001b[0;36mIndex.get_loc\u001b[1;34m(self, key, method, tolerance)\u001b[0m\n\u001b[0;32m   3801\u001b[0m \u001b[39mtry\u001b[39;00m:\n\u001b[1;32m-> 3802\u001b[0m     \u001b[39mreturn\u001b[39;00m \u001b[39mself\u001b[39;49m\u001b[39m.\u001b[39;49m_engine\u001b[39m.\u001b[39;49mget_loc(casted_key)\n\u001b[0;32m   3803\u001b[0m \u001b[39mexcept\u001b[39;00m \u001b[39mKeyError\u001b[39;00m \u001b[39mas\u001b[39;00m err:\n",
      "File \u001b[1;32m~\\AppData\\Local\\Packages\\PythonSoftwareFoundation.Python.3.10_qbz5n2kfra8p0\\LocalCache\\local-packages\\Python310\\site-packages\\pandas\\_libs\\index.pyx:138\u001b[0m, in \u001b[0;36mpandas._libs.index.IndexEngine.get_loc\u001b[1;34m()\u001b[0m\n",
      "File \u001b[1;32m~\\AppData\\Local\\Packages\\PythonSoftwareFoundation.Python.3.10_qbz5n2kfra8p0\\LocalCache\\local-packages\\Python310\\site-packages\\pandas\\_libs\\index.pyx:165\u001b[0m, in \u001b[0;36mpandas._libs.index.IndexEngine.get_loc\u001b[1;34m()\u001b[0m\n",
      "File \u001b[1;32mpandas\\_libs\\hashtable_class_helper.pxi:5745\u001b[0m, in \u001b[0;36mpandas._libs.hashtable.PyObjectHashTable.get_item\u001b[1;34m()\u001b[0m\n",
      "File \u001b[1;32mpandas\\_libs\\hashtable_class_helper.pxi:5753\u001b[0m, in \u001b[0;36mpandas._libs.hashtable.PyObjectHashTable.get_item\u001b[1;34m()\u001b[0m\n",
      "\u001b[1;31mKeyError\u001b[0m: 'probas'",
      "\nThe above exception was the direct cause of the following exception:\n",
      "\u001b[1;31mKeyError\u001b[0m                                  Traceback (most recent call last)",
      "Cell \u001b[1;32mIn[12], line 2\u001b[0m\n\u001b[0;32m      1\u001b[0m \u001b[39m#Now we apply the above function to every single row so that we have one score for every comment\u001b[39;00m\n\u001b[1;32m----> 2\u001b[0m df[\u001b[39m'\u001b[39m\u001b[39mreg_output\u001b[39m\u001b[39m'\u001b[39m] \u001b[39m=\u001b[39m df\u001b[39m.\u001b[39;49mapply(calc_reg_output, axis\u001b[39m=\u001b[39;49m\u001b[39m1\u001b[39;49m)\n",
      "File \u001b[1;32m~\\AppData\\Local\\Packages\\PythonSoftwareFoundation.Python.3.10_qbz5n2kfra8p0\\LocalCache\\local-packages\\Python310\\site-packages\\pandas\\core\\frame.py:9568\u001b[0m, in \u001b[0;36mDataFrame.apply\u001b[1;34m(self, func, axis, raw, result_type, args, **kwargs)\u001b[0m\n\u001b[0;32m   9557\u001b[0m \u001b[39mfrom\u001b[39;00m \u001b[39mpandas\u001b[39;00m\u001b[39m.\u001b[39;00m\u001b[39mcore\u001b[39;00m\u001b[39m.\u001b[39;00m\u001b[39mapply\u001b[39;00m \u001b[39mimport\u001b[39;00m frame_apply\n\u001b[0;32m   9559\u001b[0m op \u001b[39m=\u001b[39m frame_apply(\n\u001b[0;32m   9560\u001b[0m     \u001b[39mself\u001b[39m,\n\u001b[0;32m   9561\u001b[0m     func\u001b[39m=\u001b[39mfunc,\n\u001b[1;32m   (...)\u001b[0m\n\u001b[0;32m   9566\u001b[0m     kwargs\u001b[39m=\u001b[39mkwargs,\n\u001b[0;32m   9567\u001b[0m )\n\u001b[1;32m-> 9568\u001b[0m \u001b[39mreturn\u001b[39;00m op\u001b[39m.\u001b[39;49mapply()\u001b[39m.\u001b[39m__finalize__(\u001b[39mself\u001b[39m, method\u001b[39m=\u001b[39m\u001b[39m\"\u001b[39m\u001b[39mapply\u001b[39m\u001b[39m\"\u001b[39m)\n",
      "File \u001b[1;32m~\\AppData\\Local\\Packages\\PythonSoftwareFoundation.Python.3.10_qbz5n2kfra8p0\\LocalCache\\local-packages\\Python310\\site-packages\\pandas\\core\\apply.py:764\u001b[0m, in \u001b[0;36mFrameApply.apply\u001b[1;34m(self)\u001b[0m\n\u001b[0;32m    761\u001b[0m \u001b[39melif\u001b[39;00m \u001b[39mself\u001b[39m\u001b[39m.\u001b[39mraw:\n\u001b[0;32m    762\u001b[0m     \u001b[39mreturn\u001b[39;00m \u001b[39mself\u001b[39m\u001b[39m.\u001b[39mapply_raw()\n\u001b[1;32m--> 764\u001b[0m \u001b[39mreturn\u001b[39;00m \u001b[39mself\u001b[39;49m\u001b[39m.\u001b[39;49mapply_standard()\n",
      "File \u001b[1;32m~\\AppData\\Local\\Packages\\PythonSoftwareFoundation.Python.3.10_qbz5n2kfra8p0\\LocalCache\\local-packages\\Python310\\site-packages\\pandas\\core\\apply.py:891\u001b[0m, in \u001b[0;36mFrameApply.apply_standard\u001b[1;34m(self)\u001b[0m\n\u001b[0;32m    890\u001b[0m \u001b[39mdef\u001b[39;00m \u001b[39mapply_standard\u001b[39m(\u001b[39mself\u001b[39m):\n\u001b[1;32m--> 891\u001b[0m     results, res_index \u001b[39m=\u001b[39m \u001b[39mself\u001b[39;49m\u001b[39m.\u001b[39;49mapply_series_generator()\n\u001b[0;32m    893\u001b[0m     \u001b[39m# wrap results\u001b[39;00m\n\u001b[0;32m    894\u001b[0m     \u001b[39mreturn\u001b[39;00m \u001b[39mself\u001b[39m\u001b[39m.\u001b[39mwrap_results(results, res_index)\n",
      "File \u001b[1;32m~\\AppData\\Local\\Packages\\PythonSoftwareFoundation.Python.3.10_qbz5n2kfra8p0\\LocalCache\\local-packages\\Python310\\site-packages\\pandas\\core\\apply.py:907\u001b[0m, in \u001b[0;36mFrameApply.apply_series_generator\u001b[1;34m(self)\u001b[0m\n\u001b[0;32m    904\u001b[0m \u001b[39mwith\u001b[39;00m option_context(\u001b[39m\"\u001b[39m\u001b[39mmode.chained_assignment\u001b[39m\u001b[39m\"\u001b[39m, \u001b[39mNone\u001b[39;00m):\n\u001b[0;32m    905\u001b[0m     \u001b[39mfor\u001b[39;00m i, v \u001b[39min\u001b[39;00m \u001b[39menumerate\u001b[39m(series_gen):\n\u001b[0;32m    906\u001b[0m         \u001b[39m# ignore SettingWithCopy here in case the user mutates\u001b[39;00m\n\u001b[1;32m--> 907\u001b[0m         results[i] \u001b[39m=\u001b[39m \u001b[39mself\u001b[39;49m\u001b[39m.\u001b[39;49mf(v)\n\u001b[0;32m    908\u001b[0m         \u001b[39mif\u001b[39;00m \u001b[39misinstance\u001b[39m(results[i], ABCSeries):\n\u001b[0;32m    909\u001b[0m             \u001b[39m# If we have a view on v, we need to make a copy because\u001b[39;00m\n\u001b[0;32m    910\u001b[0m             \u001b[39m#  series_generator will swap out the underlying data\u001b[39;00m\n\u001b[0;32m    911\u001b[0m             results[i] \u001b[39m=\u001b[39m results[i]\u001b[39m.\u001b[39mcopy(deep\u001b[39m=\u001b[39m\u001b[39mFalse\u001b[39;00m)\n",
      "Cell \u001b[1;32mIn[11], line 3\u001b[0m, in \u001b[0;36m<lambda>\u001b[1;34m(row)\u001b[0m\n\u001b[0;32m      1\u001b[0m \u001b[39m#This was done to get a score that can be used in the next step to match frequencies with stock prices\u001b[39;00m\n\u001b[1;32m----> 3\u001b[0m calc_reg_output \u001b[39m=\u001b[39m \u001b[39mlambda\u001b[39;00m row: \u001b[39m-\u001b[39m\u001b[39m1\u001b[39m \u001b[39m*\u001b[39m row[\u001b[39m'\u001b[39;49m\u001b[39mprobas\u001b[39;49m\u001b[39m'\u001b[39;49m][\u001b[39m0\u001b[39m][\u001b[39m1\u001b[39m] \u001b[39m+\u001b[39m \u001b[39m0\u001b[39m \u001b[39m*\u001b[39m row[\u001b[39m'\u001b[39m\u001b[39mprobas\u001b[39m\u001b[39m'\u001b[39m][\u001b[39m1\u001b[39m][\u001b[39m1\u001b[39m] \u001b[39m+\u001b[39m \u001b[39m1\u001b[39m \u001b[39m*\u001b[39m row[\u001b[39m'\u001b[39m\u001b[39mprobas\u001b[39m\u001b[39m'\u001b[39m][\u001b[39m2\u001b[39m][\u001b[39m1\u001b[39m]\n",
      "File \u001b[1;32m~\\AppData\\Local\\Packages\\PythonSoftwareFoundation.Python.3.10_qbz5n2kfra8p0\\LocalCache\\local-packages\\Python310\\site-packages\\pandas\\core\\series.py:981\u001b[0m, in \u001b[0;36mSeries.__getitem__\u001b[1;34m(self, key)\u001b[0m\n\u001b[0;32m    978\u001b[0m     \u001b[39mreturn\u001b[39;00m \u001b[39mself\u001b[39m\u001b[39m.\u001b[39m_values[key]\n\u001b[0;32m    980\u001b[0m \u001b[39melif\u001b[39;00m key_is_scalar:\n\u001b[1;32m--> 981\u001b[0m     \u001b[39mreturn\u001b[39;00m \u001b[39mself\u001b[39;49m\u001b[39m.\u001b[39;49m_get_value(key)\n\u001b[0;32m    983\u001b[0m \u001b[39mif\u001b[39;00m is_hashable(key):\n\u001b[0;32m    984\u001b[0m     \u001b[39m# Otherwise index.get_value will raise InvalidIndexError\u001b[39;00m\n\u001b[0;32m    985\u001b[0m     \u001b[39mtry\u001b[39;00m:\n\u001b[0;32m    986\u001b[0m         \u001b[39m# For labels that don't resolve as scalars like tuples and frozensets\u001b[39;00m\n",
      "File \u001b[1;32m~\\AppData\\Local\\Packages\\PythonSoftwareFoundation.Python.3.10_qbz5n2kfra8p0\\LocalCache\\local-packages\\Python310\\site-packages\\pandas\\core\\series.py:1089\u001b[0m, in \u001b[0;36mSeries._get_value\u001b[1;34m(self, label, takeable)\u001b[0m\n\u001b[0;32m   1086\u001b[0m     \u001b[39mreturn\u001b[39;00m \u001b[39mself\u001b[39m\u001b[39m.\u001b[39m_values[label]\n\u001b[0;32m   1088\u001b[0m \u001b[39m# Similar to Index.get_value, but we do not fall back to positional\u001b[39;00m\n\u001b[1;32m-> 1089\u001b[0m loc \u001b[39m=\u001b[39m \u001b[39mself\u001b[39;49m\u001b[39m.\u001b[39;49mindex\u001b[39m.\u001b[39;49mget_loc(label)\n\u001b[0;32m   1090\u001b[0m \u001b[39mreturn\u001b[39;00m \u001b[39mself\u001b[39m\u001b[39m.\u001b[39mindex\u001b[39m.\u001b[39m_get_values_for_loc(\u001b[39mself\u001b[39m, loc, label)\n",
      "File \u001b[1;32m~\\AppData\\Local\\Packages\\PythonSoftwareFoundation.Python.3.10_qbz5n2kfra8p0\\LocalCache\\local-packages\\Python310\\site-packages\\pandas\\core\\indexes\\base.py:3804\u001b[0m, in \u001b[0;36mIndex.get_loc\u001b[1;34m(self, key, method, tolerance)\u001b[0m\n\u001b[0;32m   3802\u001b[0m     \u001b[39mreturn\u001b[39;00m \u001b[39mself\u001b[39m\u001b[39m.\u001b[39m_engine\u001b[39m.\u001b[39mget_loc(casted_key)\n\u001b[0;32m   3803\u001b[0m \u001b[39mexcept\u001b[39;00m \u001b[39mKeyError\u001b[39;00m \u001b[39mas\u001b[39;00m err:\n\u001b[1;32m-> 3804\u001b[0m     \u001b[39mraise\u001b[39;00m \u001b[39mKeyError\u001b[39;00m(key) \u001b[39mfrom\u001b[39;00m \u001b[39merr\u001b[39;00m\n\u001b[0;32m   3805\u001b[0m \u001b[39mexcept\u001b[39;00m \u001b[39mTypeError\u001b[39;00m:\n\u001b[0;32m   3806\u001b[0m     \u001b[39m# If we have a listlike key, _check_indexing_error will raise\u001b[39;00m\n\u001b[0;32m   3807\u001b[0m     \u001b[39m#  InvalidIndexError. Otherwise we fall through and re-raise\u001b[39;00m\n\u001b[0;32m   3808\u001b[0m     \u001b[39m#  the TypeError.\u001b[39;00m\n\u001b[0;32m   3809\u001b[0m     \u001b[39mself\u001b[39m\u001b[39m.\u001b[39m_check_indexing_error(key)\n",
      "\u001b[1;31mKeyError\u001b[0m: 'probas'"
     ]
    }
   ],
   "source": [
    "#Now we apply the above function to every single row so that we have one score for every comment\n",
    "df['reg_output'] = df.apply(calc_reg_output, axis=1)\n"
   ]
  },
  {
   "cell_type": "code",
   "execution_count": null,
   "metadata": {},
   "outputs": [
    {
     "data": {
      "text/html": [
       "<div>\n",
       "<style scoped>\n",
       "    .dataframe tbody tr th:only-of-type {\n",
       "        vertical-align: middle;\n",
       "    }\n",
       "\n",
       "    .dataframe tbody tr th {\n",
       "        vertical-align: top;\n",
       "    }\n",
       "\n",
       "    .dataframe thead th {\n",
       "        text-align: right;\n",
       "    }\n",
       "</style>\n",
       "<table border=\"1\" class=\"dataframe\">\n",
       "  <thead>\n",
       "    <tr style=\"text-align: right;\">\n",
       "      <th></th>\n",
       "      <th>subreddit</th>\n",
       "      <th>id</th>\n",
       "      <th>body</th>\n",
       "      <th>created_utc</th>\n",
       "      <th>parent_id</th>\n",
       "      <th>date</th>\n",
       "      <th>emotion</th>\n",
       "      <th>probas</th>\n",
       "      <th>reg_output</th>\n",
       "    </tr>\n",
       "  </thead>\n",
       "  <tbody>\n",
       "    <tr>\n",
       "      <th>0</th>\n",
       "      <td>TeslaMotors</td>\n",
       "      <td>hqqtbh2</td>\n",
       "      <td>If help is needed, use our stickied support th...</td>\n",
       "      <td>1.640994e+09</td>\n",
       "      <td>t3_rt6fwg</td>\n",
       "      <td>2022-01-01 00:46:50</td>\n",
       "      <td>AnalyzerOutput(output=NEU, probas={NEU: 0.832,...</td>\n",
       "      <td>[(NEG, 0.0038293171674013138), (NEU, 0.8324310...</td>\n",
       "      <td>0.159910</td>\n",
       "    </tr>\n",
       "    <tr>\n",
       "      <th>1</th>\n",
       "      <td>TeslaMotors</td>\n",
       "      <td>hqqtz7i</td>\n",
       "      <td>Requirements: \\n\\n• Fits under the aero cover ...</td>\n",
       "      <td>1.640995e+09</td>\n",
       "      <td>t3_rt6j33</td>\n",
       "      <td>2022-01-01 00:51:46</td>\n",
       "      <td>AnalyzerOutput(output=NEU, probas={NEU: 0.872,...</td>\n",
       "      <td>[(NEG, 0.11134149879217148), (NEU, 0.871991336...</td>\n",
       "      <td>-0.094674</td>\n",
       "    </tr>\n",
       "    <tr>\n",
       "      <th>2</th>\n",
       "      <td>TeslaMotors</td>\n",
       "      <td>hqqu7z3</td>\n",
       "      <td>Photo credit @rkaplan1 on Twitter</td>\n",
       "      <td>1.640995e+09</td>\n",
       "      <td>t3_rt6kex</td>\n",
       "      <td>2022-01-01 00:53:37</td>\n",
       "      <td>AnalyzerOutput(output=NEU, probas={NEU: 0.922,...</td>\n",
       "      <td>[(NEG, 0.003630931256338954), (NEU, 0.92183905...</td>\n",
       "      <td>0.070899</td>\n",
       "    </tr>\n",
       "    <tr>\n",
       "      <th>3</th>\n",
       "      <td>TeslaMotors</td>\n",
       "      <td>hqqxko8</td>\n",
       "      <td>I've wanted an Apple MagSafe charger in my cen...</td>\n",
       "      <td>1.640996e+09</td>\n",
       "      <td>t3_rt72vs</td>\n",
       "      <td>2022-01-01 01:20:13</td>\n",
       "      <td>AnalyzerOutput(output=NEG, probas={NEG: 0.785,...</td>\n",
       "      <td>[(NEG, 0.784606397151947), (NEU, 0.20615413784...</td>\n",
       "      <td>-0.775367</td>\n",
       "    </tr>\n",
       "    <tr>\n",
       "      <th>4</th>\n",
       "      <td>TeslaMotors</td>\n",
       "      <td>hqr8kka</td>\n",
       "      <td>I see you set your temperature to: NICE.</td>\n",
       "      <td>1.641002e+09</td>\n",
       "      <td>t3_rt8o5j</td>\n",
       "      <td>2022-01-01 02:47:11</td>\n",
       "      <td>AnalyzerOutput(output=POS, probas={POS: 0.675,...</td>\n",
       "      <td>[(NEG, 0.00296275457367301), (NEU, 0.322249382...</td>\n",
       "      <td>0.671825</td>\n",
       "    </tr>\n",
       "    <tr>\n",
       "      <th>...</th>\n",
       "      <td>...</td>\n",
       "      <td>...</td>\n",
       "      <td>...</td>\n",
       "      <td>...</td>\n",
       "      <td>...</td>\n",
       "      <td>...</td>\n",
       "      <td>...</td>\n",
       "      <td>...</td>\n",
       "      <td>...</td>\n",
       "    </tr>\n",
       "    <tr>\n",
       "      <th>168121</th>\n",
       "      <td>TeslaMotors</td>\n",
       "      <td>ie4b81w</td>\n",
       "      <td>Is this with the unreleased beta software? I’m...</td>\n",
       "      <td>1.656459e+09</td>\n",
       "      <td>t3_vn0xq2</td>\n",
       "      <td>2022-06-29 01:24:55</td>\n",
       "      <td>AnalyzerOutput(output=NEG, probas={NEG: 0.778,...</td>\n",
       "      <td>[(NEG, 0.7782235741615295), (NEU, 0.2154842764...</td>\n",
       "      <td>-0.771931</td>\n",
       "    </tr>\n",
       "    <tr>\n",
       "      <th>168122</th>\n",
       "      <td>TeslaMotors</td>\n",
       "      <td>ie4bcyt</td>\n",
       "      <td>No still 10.12.2. Just in another vehicle.</td>\n",
       "      <td>1.656459e+09</td>\n",
       "      <td>t3_vn0yi6</td>\n",
       "      <td>2022-06-29 01:25:58</td>\n",
       "      <td>AnalyzerOutput(output=NEU, probas={NEU: 0.973,...</td>\n",
       "      <td>[(NEG, 0.015009327791631222), (NEU, 0.97261792...</td>\n",
       "      <td>-0.002637</td>\n",
       "    </tr>\n",
       "    <tr>\n",
       "      <th>168123</th>\n",
       "      <td>TeslaMotors</td>\n",
       "      <td>ie4betk</td>\n",
       "      <td>Also wondering this question, would love to re...</td>\n",
       "      <td>1.656459e+09</td>\n",
       "      <td>t3_vn0ysw</td>\n",
       "      <td>2022-06-29 01:26:22</td>\n",
       "      <td>AnalyzerOutput(output=NEU, probas={NEU: 0.719,...</td>\n",
       "      <td>[(NEG, 0.0524548701941967), (NEU, 0.7192255258...</td>\n",
       "      <td>0.175865</td>\n",
       "    </tr>\n",
       "    <tr>\n",
       "      <th>168124</th>\n",
       "      <td>TeslaMotors</td>\n",
       "      <td>ie4nqju</td>\n",
       "      <td>Looks like a bunch of companies are all releas...</td>\n",
       "      <td>1.656465e+09</td>\n",
       "      <td>t3_vn0ysw</td>\n",
       "      <td>2022-06-29 03:03:36</td>\n",
       "      <td>AnalyzerOutput(output=NEU, probas={NEU: 0.903,...</td>\n",
       "      <td>[(NEG, 0.005526799242943525), (NEU, 0.90288501...</td>\n",
       "      <td>0.086061</td>\n",
       "    </tr>\n",
       "    <tr>\n",
       "      <th>168125</th>\n",
       "      <td>TeslaMotors</td>\n",
       "      <td>ie5dkhc</td>\n",
       "      <td>I am an auto enthusiast myself, but this is ju...</td>\n",
       "      <td>1.656478e+09</td>\n",
       "      <td>t3_vn0ysw</td>\n",
       "      <td>2022-06-29 06:48:50</td>\n",
       "      <td>AnalyzerOutput(output=NEG, probas={NEG: 0.975,...</td>\n",
       "      <td>[(NEG, 0.9749175906181335), (NEU, 0.0223366636...</td>\n",
       "      <td>-0.972172</td>\n",
       "    </tr>\n",
       "  </tbody>\n",
       "</table>\n",
       "<p>165110 rows × 9 columns</p>\n",
       "</div>"
      ],
      "text/plain": [
       "          subreddit       id  \\\n",
       "0       TeslaMotors  hqqtbh2   \n",
       "1       TeslaMotors  hqqtz7i   \n",
       "2       TeslaMotors  hqqu7z3   \n",
       "3       TeslaMotors  hqqxko8   \n",
       "4       TeslaMotors  hqr8kka   \n",
       "...             ...      ...   \n",
       "168121  TeslaMotors  ie4b81w   \n",
       "168122  TeslaMotors  ie4bcyt   \n",
       "168123  TeslaMotors  ie4betk   \n",
       "168124  TeslaMotors  ie4nqju   \n",
       "168125  TeslaMotors  ie5dkhc   \n",
       "\n",
       "                                                     body   created_utc  \\\n",
       "0       If help is needed, use our stickied support th...  1.640994e+09   \n",
       "1       Requirements: \\n\\n• Fits under the aero cover ...  1.640995e+09   \n",
       "2                       Photo credit @rkaplan1 on Twitter  1.640995e+09   \n",
       "3       I've wanted an Apple MagSafe charger in my cen...  1.640996e+09   \n",
       "4                I see you set your temperature to: NICE.  1.641002e+09   \n",
       "...                                                   ...           ...   \n",
       "168121  Is this with the unreleased beta software? I’m...  1.656459e+09   \n",
       "168122         No still 10.12.2. Just in another vehicle.  1.656459e+09   \n",
       "168123  Also wondering this question, would love to re...  1.656459e+09   \n",
       "168124  Looks like a bunch of companies are all releas...  1.656465e+09   \n",
       "168125  I am an auto enthusiast myself, but this is ju...  1.656478e+09   \n",
       "\n",
       "        parent_id                date  \\\n",
       "0       t3_rt6fwg 2022-01-01 00:46:50   \n",
       "1       t3_rt6j33 2022-01-01 00:51:46   \n",
       "2       t3_rt6kex 2022-01-01 00:53:37   \n",
       "3       t3_rt72vs 2022-01-01 01:20:13   \n",
       "4       t3_rt8o5j 2022-01-01 02:47:11   \n",
       "...           ...                 ...   \n",
       "168121  t3_vn0xq2 2022-06-29 01:24:55   \n",
       "168122  t3_vn0yi6 2022-06-29 01:25:58   \n",
       "168123  t3_vn0ysw 2022-06-29 01:26:22   \n",
       "168124  t3_vn0ysw 2022-06-29 03:03:36   \n",
       "168125  t3_vn0ysw 2022-06-29 06:48:50   \n",
       "\n",
       "                                                  emotion  \\\n",
       "0       AnalyzerOutput(output=NEU, probas={NEU: 0.832,...   \n",
       "1       AnalyzerOutput(output=NEU, probas={NEU: 0.872,...   \n",
       "2       AnalyzerOutput(output=NEU, probas={NEU: 0.922,...   \n",
       "3       AnalyzerOutput(output=NEG, probas={NEG: 0.785,...   \n",
       "4       AnalyzerOutput(output=POS, probas={POS: 0.675,...   \n",
       "...                                                   ...   \n",
       "168121  AnalyzerOutput(output=NEG, probas={NEG: 0.778,...   \n",
       "168122  AnalyzerOutput(output=NEU, probas={NEU: 0.973,...   \n",
       "168123  AnalyzerOutput(output=NEU, probas={NEU: 0.719,...   \n",
       "168124  AnalyzerOutput(output=NEU, probas={NEU: 0.903,...   \n",
       "168125  AnalyzerOutput(output=NEG, probas={NEG: 0.975,...   \n",
       "\n",
       "                                                   probas  reg_output  \n",
       "0       [(NEG, 0.0038293171674013138), (NEU, 0.8324310...    0.159910  \n",
       "1       [(NEG, 0.11134149879217148), (NEU, 0.871991336...   -0.094674  \n",
       "2       [(NEG, 0.003630931256338954), (NEU, 0.92183905...    0.070899  \n",
       "3       [(NEG, 0.784606397151947), (NEU, 0.20615413784...   -0.775367  \n",
       "4       [(NEG, 0.00296275457367301), (NEU, 0.322249382...    0.671825  \n",
       "...                                                   ...         ...  \n",
       "168121  [(NEG, 0.7782235741615295), (NEU, 0.2154842764...   -0.771931  \n",
       "168122  [(NEG, 0.015009327791631222), (NEU, 0.97261792...   -0.002637  \n",
       "168123  [(NEG, 0.0524548701941967), (NEU, 0.7192255258...    0.175865  \n",
       "168124  [(NEG, 0.005526799242943525), (NEU, 0.90288501...    0.086061  \n",
       "168125  [(NEG, 0.9749175906181335), (NEU, 0.0223366636...   -0.972172  \n",
       "\n",
       "[165110 rows x 9 columns]"
      ]
     },
     "execution_count": 26,
     "metadata": {},
     "output_type": "execute_result"
    }
   ],
   "source": [
    "df"
   ]
  },
  {
   "cell_type": "code",
   "execution_count": null,
   "metadata": {},
   "outputs": [],
   "source": [
    "#This is done to save the output of the analyzeroutput, so that above code does not have to be run again\n",
    "df.to_csv('Tesla_Comments_Filtered_Analyzed.csv', index=False)"
   ]
  },
  {
   "attachments": {},
   "cell_type": "markdown",
   "metadata": {},
   "source": [
    "# Aggregation "
   ]
  },
  {
   "attachments": {},
   "cell_type": "markdown",
   "metadata": {},
   "source": [
    "## Importing libraries"
   ]
  },
  {
   "cell_type": "code",
   "execution_count": null,
   "metadata": {},
   "outputs": [],
   "source": [
    "import pandas as pd \n",
    "import numpy as np\n",
    "import datetime\n",
    "import pytz"
   ]
  },
  {
   "attachments": {},
   "cell_type": "markdown",
   "metadata": {},
   "source": [
    "## Defining the datasets"
   ]
  },
  {
   "cell_type": "code",
   "execution_count": 16,
   "metadata": {},
   "outputs": [],
   "source": [
    "df1 = pd.read_csv('Tesla_Comments_Filtered_Analyzed.csv', delimiter=\",\")\n"
   ]
  },
  {
   "cell_type": "code",
   "execution_count": 20,
   "metadata": {},
   "outputs": [],
   "source": [
    "TSLA = pd.read_csv('TSLA_2022.csv', delimiter=',')"
   ]
  },
  {
   "cell_type": "code",
   "execution_count": 21,
   "metadata": {},
   "outputs": [
    {
     "name": "stdout",
     "output_type": "stream",
     "text": [
      "<class 'pandas.core.frame.DataFrame'>\n",
      "RangeIndex: 250 entries, 0 to 249\n",
      "Data columns (total 7 columns):\n",
      " #   Column     Non-Null Count  Dtype  \n",
      "---  ------     --------------  -----  \n",
      " 0   Date       250 non-null    object \n",
      " 1   Open       250 non-null    float64\n",
      " 2   High       250 non-null    float64\n",
      " 3   Low        250 non-null    float64\n",
      " 4   Close      250 non-null    float64\n",
      " 5   Adj Close  250 non-null    float64\n",
      " 6   Volume     250 non-null    int64  \n",
      "dtypes: float64(5), int64(1), object(1)\n",
      "memory usage: 13.8+ KB\n"
     ]
    }
   ],
   "source": [
    "TSLA.info()"
   ]
  },
  {
   "attachments": {},
   "cell_type": "markdown",
   "metadata": {},
   "source": [
    "## Normalization of dates"
   ]
  },
  {
   "cell_type": "code",
   "execution_count": 22,
   "metadata": {},
   "outputs": [],
   "source": [
    "# Converting it into datetime\n",
    "TSLA['Date'] = pd.to_datetime(TSLA['Date'])\n"
   ]
  },
  {
   "cell_type": "code",
   "execution_count": 23,
   "metadata": {},
   "outputs": [],
   "source": [
    "TSLA['date'] = TSLA['Date']"
   ]
  },
  {
   "cell_type": "code",
   "execution_count": 24,
   "metadata": {},
   "outputs": [
    {
     "data": {
      "text/html": [
       "<div>\n",
       "<style scoped>\n",
       "    .dataframe tbody tr th:only-of-type {\n",
       "        vertical-align: middle;\n",
       "    }\n",
       "\n",
       "    .dataframe tbody tr th {\n",
       "        vertical-align: top;\n",
       "    }\n",
       "\n",
       "    .dataframe thead th {\n",
       "        text-align: right;\n",
       "    }\n",
       "</style>\n",
       "<table border=\"1\" class=\"dataframe\">\n",
       "  <thead>\n",
       "    <tr style=\"text-align: right;\">\n",
       "      <th></th>\n",
       "      <th>subreddit</th>\n",
       "      <th>id</th>\n",
       "      <th>body</th>\n",
       "      <th>created_utc</th>\n",
       "      <th>parent_id</th>\n",
       "      <th>date</th>\n",
       "      <th>emotion</th>\n",
       "      <th>probas</th>\n",
       "      <th>reg_output</th>\n",
       "    </tr>\n",
       "  </thead>\n",
       "  <tbody>\n",
       "    <tr>\n",
       "      <th>0</th>\n",
       "      <td>TeslaMotors</td>\n",
       "      <td>hqqtbh2</td>\n",
       "      <td>If help is needed, use our stickied support th...</td>\n",
       "      <td>1.640994e+09</td>\n",
       "      <td>t3_rt6fwg</td>\n",
       "      <td>2022-01-01 00:46:50</td>\n",
       "      <td>AnalyzerOutput(output=NEU, probas={NEU: 0.832,...</td>\n",
       "      <td>[('NEG', 0.0038293171674013138), ('NEU', 0.832...</td>\n",
       "      <td>0.159910</td>\n",
       "    </tr>\n",
       "    <tr>\n",
       "      <th>1</th>\n",
       "      <td>TeslaMotors</td>\n",
       "      <td>hqqtz7i</td>\n",
       "      <td>Requirements: \\n\\n• Fits under the aero cover ...</td>\n",
       "      <td>1.640995e+09</td>\n",
       "      <td>t3_rt6j33</td>\n",
       "      <td>2022-01-01 00:51:46</td>\n",
       "      <td>AnalyzerOutput(output=NEU, probas={NEU: 0.872,...</td>\n",
       "      <td>[('NEG', 0.11134149879217148), ('NEU', 0.87199...</td>\n",
       "      <td>-0.094674</td>\n",
       "    </tr>\n",
       "    <tr>\n",
       "      <th>2</th>\n",
       "      <td>TeslaMotors</td>\n",
       "      <td>hqqu7z3</td>\n",
       "      <td>Photo credit @rkaplan1 on Twitter</td>\n",
       "      <td>1.640995e+09</td>\n",
       "      <td>t3_rt6kex</td>\n",
       "      <td>2022-01-01 00:53:37</td>\n",
       "      <td>AnalyzerOutput(output=NEU, probas={NEU: 0.922,...</td>\n",
       "      <td>[('NEG', 0.003630931256338954), ('NEU', 0.9218...</td>\n",
       "      <td>0.070899</td>\n",
       "    </tr>\n",
       "    <tr>\n",
       "      <th>3</th>\n",
       "      <td>TeslaMotors</td>\n",
       "      <td>hqqxko8</td>\n",
       "      <td>I've wanted an Apple MagSafe charger in my cen...</td>\n",
       "      <td>1.640996e+09</td>\n",
       "      <td>t3_rt72vs</td>\n",
       "      <td>2022-01-01 01:20:13</td>\n",
       "      <td>AnalyzerOutput(output=NEG, probas={NEG: 0.785,...</td>\n",
       "      <td>[('NEG', 0.784606397151947), ('NEU', 0.2061541...</td>\n",
       "      <td>-0.775367</td>\n",
       "    </tr>\n",
       "    <tr>\n",
       "      <th>4</th>\n",
       "      <td>TeslaMotors</td>\n",
       "      <td>hqr8kka</td>\n",
       "      <td>I see you set your temperature to: NICE.</td>\n",
       "      <td>1.641002e+09</td>\n",
       "      <td>t3_rt8o5j</td>\n",
       "      <td>2022-01-01 02:47:11</td>\n",
       "      <td>AnalyzerOutput(output=POS, probas={POS: 0.675,...</td>\n",
       "      <td>[('NEG', 0.00296275457367301), ('NEU', 0.32224...</td>\n",
       "      <td>0.671825</td>\n",
       "    </tr>\n",
       "    <tr>\n",
       "      <th>...</th>\n",
       "      <td>...</td>\n",
       "      <td>...</td>\n",
       "      <td>...</td>\n",
       "      <td>...</td>\n",
       "      <td>...</td>\n",
       "      <td>...</td>\n",
       "      <td>...</td>\n",
       "      <td>...</td>\n",
       "      <td>...</td>\n",
       "    </tr>\n",
       "    <tr>\n",
       "      <th>165105</th>\n",
       "      <td>TeslaMotors</td>\n",
       "      <td>ie4b81w</td>\n",
       "      <td>Is this with the unreleased beta software? I’m...</td>\n",
       "      <td>1.656459e+09</td>\n",
       "      <td>t3_vn0xq2</td>\n",
       "      <td>2022-06-29 01:24:55</td>\n",
       "      <td>AnalyzerOutput(output=NEG, probas={NEG: 0.778,...</td>\n",
       "      <td>[('NEG', 0.7782235741615295), ('NEU', 0.215484...</td>\n",
       "      <td>-0.771931</td>\n",
       "    </tr>\n",
       "    <tr>\n",
       "      <th>165106</th>\n",
       "      <td>TeslaMotors</td>\n",
       "      <td>ie4bcyt</td>\n",
       "      <td>No still 10.12.2. Just in another vehicle.</td>\n",
       "      <td>1.656459e+09</td>\n",
       "      <td>t3_vn0yi6</td>\n",
       "      <td>2022-06-29 01:25:58</td>\n",
       "      <td>AnalyzerOutput(output=NEU, probas={NEU: 0.973,...</td>\n",
       "      <td>[('NEG', 0.015009327791631222), ('NEU', 0.9726...</td>\n",
       "      <td>-0.002637</td>\n",
       "    </tr>\n",
       "    <tr>\n",
       "      <th>165107</th>\n",
       "      <td>TeslaMotors</td>\n",
       "      <td>ie4betk</td>\n",
       "      <td>Also wondering this question, would love to re...</td>\n",
       "      <td>1.656459e+09</td>\n",
       "      <td>t3_vn0ysw</td>\n",
       "      <td>2022-06-29 01:26:22</td>\n",
       "      <td>AnalyzerOutput(output=NEU, probas={NEU: 0.719,...</td>\n",
       "      <td>[('NEG', 0.0524548701941967), ('NEU', 0.719225...</td>\n",
       "      <td>0.175865</td>\n",
       "    </tr>\n",
       "    <tr>\n",
       "      <th>165108</th>\n",
       "      <td>TeslaMotors</td>\n",
       "      <td>ie4nqju</td>\n",
       "      <td>Looks like a bunch of companies are all releas...</td>\n",
       "      <td>1.656465e+09</td>\n",
       "      <td>t3_vn0ysw</td>\n",
       "      <td>2022-06-29 03:03:36</td>\n",
       "      <td>AnalyzerOutput(output=NEU, probas={NEU: 0.903,...</td>\n",
       "      <td>[('NEG', 0.005526799242943525), ('NEU', 0.9028...</td>\n",
       "      <td>0.086061</td>\n",
       "    </tr>\n",
       "    <tr>\n",
       "      <th>165109</th>\n",
       "      <td>TeslaMotors</td>\n",
       "      <td>ie5dkhc</td>\n",
       "      <td>I am an auto enthusiast myself, but this is ju...</td>\n",
       "      <td>1.656478e+09</td>\n",
       "      <td>t3_vn0ysw</td>\n",
       "      <td>2022-06-29 06:48:50</td>\n",
       "      <td>AnalyzerOutput(output=NEG, probas={NEG: 0.975,...</td>\n",
       "      <td>[('NEG', 0.9749175906181335), ('NEU', 0.022336...</td>\n",
       "      <td>-0.972172</td>\n",
       "    </tr>\n",
       "  </tbody>\n",
       "</table>\n",
       "<p>165110 rows × 9 columns</p>\n",
       "</div>"
      ],
      "text/plain": [
       "          subreddit       id  \\\n",
       "0       TeslaMotors  hqqtbh2   \n",
       "1       TeslaMotors  hqqtz7i   \n",
       "2       TeslaMotors  hqqu7z3   \n",
       "3       TeslaMotors  hqqxko8   \n",
       "4       TeslaMotors  hqr8kka   \n",
       "...             ...      ...   \n",
       "165105  TeslaMotors  ie4b81w   \n",
       "165106  TeslaMotors  ie4bcyt   \n",
       "165107  TeslaMotors  ie4betk   \n",
       "165108  TeslaMotors  ie4nqju   \n",
       "165109  TeslaMotors  ie5dkhc   \n",
       "\n",
       "                                                     body   created_utc  \\\n",
       "0       If help is needed, use our stickied support th...  1.640994e+09   \n",
       "1       Requirements: \\n\\n• Fits under the aero cover ...  1.640995e+09   \n",
       "2                       Photo credit @rkaplan1 on Twitter  1.640995e+09   \n",
       "3       I've wanted an Apple MagSafe charger in my cen...  1.640996e+09   \n",
       "4                I see you set your temperature to: NICE.  1.641002e+09   \n",
       "...                                                   ...           ...   \n",
       "165105  Is this with the unreleased beta software? I’m...  1.656459e+09   \n",
       "165106         No still 10.12.2. Just in another vehicle.  1.656459e+09   \n",
       "165107  Also wondering this question, would love to re...  1.656459e+09   \n",
       "165108  Looks like a bunch of companies are all releas...  1.656465e+09   \n",
       "165109  I am an auto enthusiast myself, but this is ju...  1.656478e+09   \n",
       "\n",
       "        parent_id                 date  \\\n",
       "0       t3_rt6fwg  2022-01-01 00:46:50   \n",
       "1       t3_rt6j33  2022-01-01 00:51:46   \n",
       "2       t3_rt6kex  2022-01-01 00:53:37   \n",
       "3       t3_rt72vs  2022-01-01 01:20:13   \n",
       "4       t3_rt8o5j  2022-01-01 02:47:11   \n",
       "...           ...                  ...   \n",
       "165105  t3_vn0xq2  2022-06-29 01:24:55   \n",
       "165106  t3_vn0yi6  2022-06-29 01:25:58   \n",
       "165107  t3_vn0ysw  2022-06-29 01:26:22   \n",
       "165108  t3_vn0ysw  2022-06-29 03:03:36   \n",
       "165109  t3_vn0ysw  2022-06-29 06:48:50   \n",
       "\n",
       "                                                  emotion  \\\n",
       "0       AnalyzerOutput(output=NEU, probas={NEU: 0.832,...   \n",
       "1       AnalyzerOutput(output=NEU, probas={NEU: 0.872,...   \n",
       "2       AnalyzerOutput(output=NEU, probas={NEU: 0.922,...   \n",
       "3       AnalyzerOutput(output=NEG, probas={NEG: 0.785,...   \n",
       "4       AnalyzerOutput(output=POS, probas={POS: 0.675,...   \n",
       "...                                                   ...   \n",
       "165105  AnalyzerOutput(output=NEG, probas={NEG: 0.778,...   \n",
       "165106  AnalyzerOutput(output=NEU, probas={NEU: 0.973,...   \n",
       "165107  AnalyzerOutput(output=NEU, probas={NEU: 0.719,...   \n",
       "165108  AnalyzerOutput(output=NEU, probas={NEU: 0.903,...   \n",
       "165109  AnalyzerOutput(output=NEG, probas={NEG: 0.975,...   \n",
       "\n",
       "                                                   probas  reg_output  \n",
       "0       [('NEG', 0.0038293171674013138), ('NEU', 0.832...    0.159910  \n",
       "1       [('NEG', 0.11134149879217148), ('NEU', 0.87199...   -0.094674  \n",
       "2       [('NEG', 0.003630931256338954), ('NEU', 0.9218...    0.070899  \n",
       "3       [('NEG', 0.784606397151947), ('NEU', 0.2061541...   -0.775367  \n",
       "4       [('NEG', 0.00296275457367301), ('NEU', 0.32224...    0.671825  \n",
       "...                                                   ...         ...  \n",
       "165105  [('NEG', 0.7782235741615295), ('NEU', 0.215484...   -0.771931  \n",
       "165106  [('NEG', 0.015009327791631222), ('NEU', 0.9726...   -0.002637  \n",
       "165107  [('NEG', 0.0524548701941967), ('NEU', 0.719225...    0.175865  \n",
       "165108  [('NEG', 0.005526799242943525), ('NEU', 0.9028...    0.086061  \n",
       "165109  [('NEG', 0.9749175906181335), ('NEU', 0.022336...   -0.972172  \n",
       "\n",
       "[165110 rows x 9 columns]"
      ]
     },
     "execution_count": 24,
     "metadata": {},
     "output_type": "execute_result"
    }
   ],
   "source": [
    "df1"
   ]
  },
  {
   "cell_type": "code",
   "execution_count": 27,
   "metadata": {},
   "outputs": [],
   "source": [
    "df1['date'] = pd.to_datetime(df1['date'])"
   ]
  },
  {
   "cell_type": "code",
   "execution_count": 28,
   "metadata": {},
   "outputs": [],
   "source": [
    "#Normalized the dates, so that it fits with the garch model. So that we do not have information spillover to the day we are trying to forecast.\n",
    "df1['date'] = df1['date'].apply(lambda x: x.date() if x.time() < pd.Timestamp('14:30:00').time() else x.date() + pd.Timedelta(days=1))"
   ]
  },
  {
   "cell_type": "code",
   "execution_count": 31,
   "metadata": {},
   "outputs": [],
   "source": [
    "df1['date'] = pd.to_datetime(df1['date'])"
   ]
  },
  {
   "attachments": {},
   "cell_type": "markdown",
   "metadata": {},
   "source": [
    "## Aggregation method"
   ]
  },
  {
   "cell_type": "code",
   "execution_count": 32,
   "metadata": {},
   "outputs": [
    {
     "name": "stderr",
     "output_type": "stream",
     "text": [
      "C:\\Users\\maart\\AppData\\Local\\Temp\\ipykernel_9600\\3007577693.py:2: FutureWarning: The default value of numeric_only in DataFrameGroupBy.mean is deprecated. In a future version, numeric_only will default to False. Either specify numeric_only or select only columns which should be valid for the function.\n",
      "  df1 = df1.groupby(pd.Grouper(key='date', freq='D')).mean().reset_index()\n"
     ]
    }
   ],
   "source": [
    "# group the data by day and calculate the average of 'reg_output' scores\n",
    "df1 = df1.groupby(pd.Grouper(key='date', freq='D')).mean().reset_index()"
   ]
  },
  {
   "cell_type": "code",
   "execution_count": 33,
   "metadata": {},
   "outputs": [],
   "source": [
    "#ASSUMPTION IS THAT IF THERE ARE NO COMMENTS, THEY ARE NEUTRAL. SO WE ASSUME IT HAS 0 IMPACT  \n",
    "#For some of the days we dont have comments, so we convert those NAN's into 0's, since we cannot calculate with NANS, since it has no numerical value. \n",
    "df1 = df1.fillna(0)"
   ]
  },
  {
   "attachments": {},
   "cell_type": "markdown",
   "metadata": {},
   "source": [
    "## Merging the two datasets as one"
   ]
  },
  {
   "cell_type": "code",
   "execution_count": 34,
   "metadata": {},
   "outputs": [],
   "source": [
    "#Here we make sure that the number of reddit scores match with the number of stock prices, so that we have the same amount of frequencies \n",
    "merged_df1 = pd.merge(TSLA, df1, on='date', how='inner')"
   ]
  },
  {
   "cell_type": "code",
   "execution_count": 35,
   "metadata": {},
   "outputs": [
    {
     "data": {
      "text/html": [
       "<div>\n",
       "<style scoped>\n",
       "    .dataframe tbody tr th:only-of-type {\n",
       "        vertical-align: middle;\n",
       "    }\n",
       "\n",
       "    .dataframe tbody tr th {\n",
       "        vertical-align: top;\n",
       "    }\n",
       "\n",
       "    .dataframe thead th {\n",
       "        text-align: right;\n",
       "    }\n",
       "</style>\n",
       "<table border=\"1\" class=\"dataframe\">\n",
       "  <thead>\n",
       "    <tr style=\"text-align: right;\">\n",
       "      <th></th>\n",
       "      <th>Date</th>\n",
       "      <th>Open</th>\n",
       "      <th>High</th>\n",
       "      <th>Low</th>\n",
       "      <th>Close</th>\n",
       "      <th>Adj Close</th>\n",
       "      <th>Volume</th>\n",
       "      <th>date</th>\n",
       "      <th>created_utc</th>\n",
       "      <th>reg_output</th>\n",
       "    </tr>\n",
       "  </thead>\n",
       "  <tbody>\n",
       "    <tr>\n",
       "      <th>0</th>\n",
       "      <td>2022-02-28</td>\n",
       "      <td>271.670013</td>\n",
       "      <td>292.286682</td>\n",
       "      <td>271.570007</td>\n",
       "      <td>290.143341</td>\n",
       "      <td>290.143341</td>\n",
       "      <td>99006900</td>\n",
       "      <td>2022-02-28</td>\n",
       "      <td>1.646010e+09</td>\n",
       "      <td>-0.079532</td>\n",
       "    </tr>\n",
       "    <tr>\n",
       "      <th>1</th>\n",
       "      <td>2022-03-01</td>\n",
       "      <td>289.893341</td>\n",
       "      <td>296.626678</td>\n",
       "      <td>284.593323</td>\n",
       "      <td>288.123322</td>\n",
       "      <td>288.123322</td>\n",
       "      <td>74766900</td>\n",
       "      <td>2022-03-01</td>\n",
       "      <td>1.646087e+09</td>\n",
       "      <td>-0.086247</td>\n",
       "    </tr>\n",
       "    <tr>\n",
       "      <th>2</th>\n",
       "      <td>2022-03-02</td>\n",
       "      <td>290.709991</td>\n",
       "      <td>295.493347</td>\n",
       "      <td>281.423340</td>\n",
       "      <td>293.296661</td>\n",
       "      <td>293.296661</td>\n",
       "      <td>74643300</td>\n",
       "      <td>2022-03-02</td>\n",
       "      <td>1.646174e+09</td>\n",
       "      <td>-0.142537</td>\n",
       "    </tr>\n",
       "    <tr>\n",
       "      <th>3</th>\n",
       "      <td>2022-03-03</td>\n",
       "      <td>292.923340</td>\n",
       "      <td>295.480011</td>\n",
       "      <td>277.533325</td>\n",
       "      <td>279.763336</td>\n",
       "      <td>279.763336</td>\n",
       "      <td>61623600</td>\n",
       "      <td>2022-03-03</td>\n",
       "      <td>1.646276e+09</td>\n",
       "      <td>-0.088349</td>\n",
       "    </tr>\n",
       "    <tr>\n",
       "      <th>4</th>\n",
       "      <td>2022-03-04</td>\n",
       "      <td>283.033325</td>\n",
       "      <td>285.216675</td>\n",
       "      <td>275.053345</td>\n",
       "      <td>279.429993</td>\n",
       "      <td>279.429993</td>\n",
       "      <td>66999600</td>\n",
       "      <td>2022-03-04</td>\n",
       "      <td>1.646343e+09</td>\n",
       "      <td>-0.047891</td>\n",
       "    </tr>\n",
       "    <tr>\n",
       "      <th>...</th>\n",
       "      <td>...</td>\n",
       "      <td>...</td>\n",
       "      <td>...</td>\n",
       "      <td>...</td>\n",
       "      <td>...</td>\n",
       "      <td>...</td>\n",
       "      <td>...</td>\n",
       "      <td>...</td>\n",
       "      <td>...</td>\n",
       "      <td>...</td>\n",
       "    </tr>\n",
       "    <tr>\n",
       "      <th>240</th>\n",
       "      <td>2023-02-10</td>\n",
       "      <td>202.229996</td>\n",
       "      <td>206.199997</td>\n",
       "      <td>192.889999</td>\n",
       "      <td>196.889999</td>\n",
       "      <td>196.889999</td>\n",
       "      <td>204193800</td>\n",
       "      <td>2023-02-10</td>\n",
       "      <td>1.676015e+09</td>\n",
       "      <td>-0.369145</td>\n",
       "    </tr>\n",
       "    <tr>\n",
       "      <th>241</th>\n",
       "      <td>2023-02-13</td>\n",
       "      <td>194.419998</td>\n",
       "      <td>196.300003</td>\n",
       "      <td>187.610001</td>\n",
       "      <td>194.639999</td>\n",
       "      <td>194.639999</td>\n",
       "      <td>172475500</td>\n",
       "      <td>2023-02-13</td>\n",
       "      <td>1.676229e+09</td>\n",
       "      <td>-0.608041</td>\n",
       "    </tr>\n",
       "    <tr>\n",
       "      <th>242</th>\n",
       "      <td>2023-02-14</td>\n",
       "      <td>191.940002</td>\n",
       "      <td>209.820007</td>\n",
       "      <td>189.440002</td>\n",
       "      <td>209.250000</td>\n",
       "      <td>209.250000</td>\n",
       "      <td>216455700</td>\n",
       "      <td>2023-02-14</td>\n",
       "      <td>1.676336e+09</td>\n",
       "      <td>0.990002</td>\n",
       "    </tr>\n",
       "    <tr>\n",
       "      <th>243</th>\n",
       "      <td>2023-02-15</td>\n",
       "      <td>211.759995</td>\n",
       "      <td>214.660004</td>\n",
       "      <td>206.110001</td>\n",
       "      <td>214.240005</td>\n",
       "      <td>214.240005</td>\n",
       "      <td>182108600</td>\n",
       "      <td>2023-02-15</td>\n",
       "      <td>0.000000e+00</td>\n",
       "      <td>0.000000</td>\n",
       "    </tr>\n",
       "    <tr>\n",
       "      <th>244</th>\n",
       "      <td>2023-02-16</td>\n",
       "      <td>210.779999</td>\n",
       "      <td>217.649994</td>\n",
       "      <td>201.839996</td>\n",
       "      <td>202.039993</td>\n",
       "      <td>202.039993</td>\n",
       "      <td>229586500</td>\n",
       "      <td>2023-02-16</td>\n",
       "      <td>1.676507e+09</td>\n",
       "      <td>-0.918593</td>\n",
       "    </tr>\n",
       "  </tbody>\n",
       "</table>\n",
       "<p>245 rows × 10 columns</p>\n",
       "</div>"
      ],
      "text/plain": [
       "          Date        Open        High         Low       Close   Adj Close  \\\n",
       "0   2022-02-28  271.670013  292.286682  271.570007  290.143341  290.143341   \n",
       "1   2022-03-01  289.893341  296.626678  284.593323  288.123322  288.123322   \n",
       "2   2022-03-02  290.709991  295.493347  281.423340  293.296661  293.296661   \n",
       "3   2022-03-03  292.923340  295.480011  277.533325  279.763336  279.763336   \n",
       "4   2022-03-04  283.033325  285.216675  275.053345  279.429993  279.429993   \n",
       "..         ...         ...         ...         ...         ...         ...   \n",
       "240 2023-02-10  202.229996  206.199997  192.889999  196.889999  196.889999   \n",
       "241 2023-02-13  194.419998  196.300003  187.610001  194.639999  194.639999   \n",
       "242 2023-02-14  191.940002  209.820007  189.440002  209.250000  209.250000   \n",
       "243 2023-02-15  211.759995  214.660004  206.110001  214.240005  214.240005   \n",
       "244 2023-02-16  210.779999  217.649994  201.839996  202.039993  202.039993   \n",
       "\n",
       "        Volume       date   created_utc  reg_output  \n",
       "0     99006900 2022-02-28  1.646010e+09   -0.079532  \n",
       "1     74766900 2022-03-01  1.646087e+09   -0.086247  \n",
       "2     74643300 2022-03-02  1.646174e+09   -0.142537  \n",
       "3     61623600 2022-03-03  1.646276e+09   -0.088349  \n",
       "4     66999600 2022-03-04  1.646343e+09   -0.047891  \n",
       "..         ...        ...           ...         ...  \n",
       "240  204193800 2023-02-10  1.676015e+09   -0.369145  \n",
       "241  172475500 2023-02-13  1.676229e+09   -0.608041  \n",
       "242  216455700 2023-02-14  1.676336e+09    0.990002  \n",
       "243  182108600 2023-02-15  0.000000e+00    0.000000  \n",
       "244  229586500 2023-02-16  1.676507e+09   -0.918593  \n",
       "\n",
       "[245 rows x 10 columns]"
      ]
     },
     "execution_count": 35,
     "metadata": {},
     "output_type": "execute_result"
    }
   ],
   "source": [
    "merged_df1"
   ]
  },
  {
   "cell_type": "code",
   "execution_count": 36,
   "metadata": {},
   "outputs": [
    {
     "data": {
      "text/plain": [
       "Date           0\n",
       "Open           0\n",
       "High           0\n",
       "Low            0\n",
       "Close          0\n",
       "Adj Close      0\n",
       "Volume         0\n",
       "date           0\n",
       "created_utc    0\n",
       "reg_output     0\n",
       "dtype: int64"
      ]
     },
     "execution_count": 36,
     "metadata": {},
     "output_type": "execute_result"
    }
   ],
   "source": [
    "merged_df1.isna().sum()"
   ]
  },
  {
   "cell_type": "code",
   "execution_count": 37,
   "metadata": {},
   "outputs": [],
   "source": [
    "merged_df1.to_csv('SP_SC.csv', index=False)"
   ]
  }
 ],
 "metadata": {
  "kernelspec": {
   "display_name": "Python 3",
   "language": "python",
   "name": "python3"
  },
  "language_info": {
   "codemirror_mode": {
    "name": "ipython",
    "version": 3
   },
   "file_extension": ".py",
   "mimetype": "text/x-python",
   "name": "python",
   "nbconvert_exporter": "python",
   "pygments_lexer": "ipython3",
   "version": "3.10.10"
  },
  "orig_nbformat": 4,
  "vscode": {
   "interpreter": {
    "hash": "19f9ddf3622c0b1569490fd927172cf777b9021a692f6f37361c5e5933f47574"
   }
  }
 },
 "nbformat": 4,
 "nbformat_minor": 2
}
