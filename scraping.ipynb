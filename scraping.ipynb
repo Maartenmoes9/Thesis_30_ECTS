{
 "cells": [
  {
   "cell_type": "code",
   "execution_count": 1,
   "metadata": {},
   "outputs": [],
   "source": [
    "import pandas as pd \n",
    "import numpy as np\n",
    "import datetime\n",
    "import pytz"
   ]
  },
  {
   "cell_type": "code",
   "execution_count": 2,
   "metadata": {},
   "outputs": [
    {
     "name": "stderr",
     "output_type": "stream",
     "text": [
      "C:\\Users\\maart\\AppData\\Local\\Temp\\ipykernel_31384\\369132780.py:1: DtypeWarning: Columns (7,8,9,10,11,12,13,14) have mixed types. Specify dtype option on import or set low_memory=False.\n",
      "  df = pd.read_csv('Tesla_Comments_filtered.csv', delimiter=\";\")\n"
     ]
    }
   ],
   "source": [
    "df = pd.read_csv('Tesla_Comments_filtered.csv', delimiter=\";\")\n"
   ]
  },
  {
   "cell_type": "code",
   "execution_count": 3,
   "metadata": {},
   "outputs": [],
   "source": [
    "df = df[['subreddit','id','body','created_utc','parent_id']]\n"
   ]
  },
  {
   "cell_type": "code",
   "execution_count": 4,
   "metadata": {},
   "outputs": [
    {
     "name": "stderr",
     "output_type": "stream",
     "text": [
      "C:\\Users\\maart\\AppData\\Local\\Temp\\ipykernel_31384\\2494881415.py:2: SettingWithCopyWarning: \n",
      "A value is trying to be set on a copy of a slice from a DataFrame.\n",
      "Try using .loc[row_indexer,col_indexer] = value instead\n",
      "\n",
      "See the caveats in the documentation: https://pandas.pydata.org/pandas-docs/stable/user_guide/indexing.html#returning-a-view-versus-a-copy\n",
      "  df['created_utc'] = pd.to_numeric(df['created_utc'], errors='coerce')\n",
      "C:\\Users\\maart\\AppData\\Local\\Temp\\ipykernel_31384\\2494881415.py:10: SettingWithCopyWarning: \n",
      "A value is trying to be set on a copy of a slice from a DataFrame.\n",
      "Try using .loc[row_indexer,col_indexer] = value instead\n",
      "\n",
      "See the caveats in the documentation: https://pandas.pydata.org/pandas-docs/stable/user_guide/indexing.html#returning-a-view-versus-a-copy\n",
      "  df['date'] = df['created_utc'].apply(unix_to_datetime)\n"
     ]
    }
   ],
   "source": [
    "# Convert \"body\" column to integers\n",
    "df['created_utc'] = pd.to_numeric(df['created_utc'], errors='coerce')\n",
    "df = df.dropna(subset=['created_utc'])\n",
    "\n",
    "# Define function to convert Unix timestamp to datetime object\n",
    "def unix_to_datetime(timestamp):\n",
    "    return datetime.datetime.fromtimestamp(timestamp)\n",
    "\n",
    "# Apply function to Unix timestamp column\n",
    "df['date'] = df['created_utc'].apply(unix_to_datetime)"
   ]
  },
  {
   "cell_type": "code",
   "execution_count": 5,
   "metadata": {},
   "outputs": [
    {
     "name": "stdout",
     "output_type": "stream",
     "text": [
      "20149\n"
     ]
    }
   ],
   "source": [
    "print(df['body'].isnull().sum())"
   ]
  },
  {
   "cell_type": "code",
   "execution_count": 6,
   "metadata": {},
   "outputs": [
    {
     "name": "stderr",
     "output_type": "stream",
     "text": [
      "C:\\Users\\maart\\AppData\\Local\\Temp\\ipykernel_31384\\1379821321.py:1: SettingWithCopyWarning: \n",
      "A value is trying to be set on a copy of a slice from a DataFrame\n",
      "\n",
      "See the caveats in the documentation: https://pandas.pydata.org/pandas-docs/stable/user_guide/indexing.html#returning-a-view-versus-a-copy\n",
      "  df.dropna(inplace=True)\n"
     ]
    }
   ],
   "source": [
    "df.dropna(inplace=True)"
   ]
  },
  {
   "cell_type": "code",
   "execution_count": 7,
   "metadata": {},
   "outputs": [
    {
     "name": "stderr",
     "output_type": "stream",
     "text": [
      "c:\\Users\\maart\\AppData\\Local\\Programs\\Python\\Python310\\lib\\site-packages\\tqdm\\auto.py:22: TqdmWarning: IProgress not found. Please update jupyter and ipywidgets. See https://ipywidgets.readthedocs.io/en/stable/user_install.html\n",
      "  from .autonotebook import tqdm as notebook_tqdm\n"
     ]
    }
   ],
   "source": [
    "# #SOLUTION 1\n",
    "# from pysentimiento import create_analyzer\n",
    "# emotion_analyzer = create_analyzer(task=\"sentiment\", lang=\"en\")"
   ]
  },
  {
   "cell_type": "code",
   "execution_count": 8,
   "metadata": {},
   "outputs": [
    {
     "name": "stderr",
     "output_type": "stream",
     "text": [
      "C:\\Users\\maart\\AppData\\Local\\Temp\\ipykernel_31384\\1505528588.py:2: SettingWithCopyWarning: \n",
      "A value is trying to be set on a copy of a slice from a DataFrame.\n",
      "Try using .loc[row_indexer,col_indexer] = value instead\n",
      "\n",
      "See the caveats in the documentation: https://pandas.pydata.org/pandas-docs/stable/user_guide/indexing.html#returning-a-view-versus-a-copy\n",
      "  df['emotion'] = df['body'].apply(emotion_analyzer.predict)\n"
     ]
    }
   ],
   "source": [
    "#Using the emotion analyer on all reddit comments and put it under a new column \n",
    "# df['emotion'] = df['body'].apply(emotion_analyzer.predict)\n"
   ]
  },
  {
   "cell_type": "code",
   "execution_count": 17,
   "metadata": {},
   "outputs": [
    {
     "name": "stderr",
     "output_type": "stream",
     "text": [
      "C:\\Users\\maart\\AppData\\Local\\Temp\\ipykernel_31384\\2427439957.py:1: SettingWithCopyWarning: \n",
      "A value is trying to be set on a copy of a slice from a DataFrame.\n",
      "Try using .loc[row_indexer,col_indexer] = value instead\n",
      "\n",
      "See the caveats in the documentation: https://pandas.pydata.org/pandas-docs/stable/user_guide/indexing.html#returning-a-view-versus-a-copy\n",
      "  df['probas'] = df['emotion'].apply(lambda x: list(x.probas.items()))\n"
     ]
    }
   ],
   "source": [
    "#This was done to list the probabilities of the analyzeroutput\n",
    "# df['probas'] = df['emotion'].apply(lambda x: list(x.probas.items()))\n"
   ]
  },
  {
   "cell_type": "code",
   "execution_count": 23,
   "metadata": {},
   "outputs": [],
   "source": [
    "#This was done to get a score that can be used in the next step to match frequencies with stock prices\n",
    "\n",
    "calc_reg_output = lambda row: -1 * row['probas'][0][1] + 0 * row['probas'][1][1] + 1 * row['probas'][2][1]\n"
   ]
  },
  {
   "cell_type": "code",
   "execution_count": 25,
   "metadata": {},
   "outputs": [
    {
     "name": "stderr",
     "output_type": "stream",
     "text": [
      "C:\\Users\\maart\\AppData\\Local\\Temp\\ipykernel_31384\\624689051.py:1: SettingWithCopyWarning: \n",
      "A value is trying to be set on a copy of a slice from a DataFrame.\n",
      "Try using .loc[row_indexer,col_indexer] = value instead\n",
      "\n",
      "See the caveats in the documentation: https://pandas.pydata.org/pandas-docs/stable/user_guide/indexing.html#returning-a-view-versus-a-copy\n",
      "  df['reg_output'] = df.apply(calc_reg_output, axis=1)\n"
     ]
    }
   ],
   "source": [
    "#Now we apply the above function to every single row so that we have one score for every comment\n",
    "df['reg_output'] = df.apply(calc_reg_output, axis=1)\n"
   ]
  },
  {
   "cell_type": "code",
   "execution_count": 26,
   "metadata": {},
   "outputs": [
    {
     "data": {
      "text/html": [
       "<div>\n",
       "<style scoped>\n",
       "    .dataframe tbody tr th:only-of-type {\n",
       "        vertical-align: middle;\n",
       "    }\n",
       "\n",
       "    .dataframe tbody tr th {\n",
       "        vertical-align: top;\n",
       "    }\n",
       "\n",
       "    .dataframe thead th {\n",
       "        text-align: right;\n",
       "    }\n",
       "</style>\n",
       "<table border=\"1\" class=\"dataframe\">\n",
       "  <thead>\n",
       "    <tr style=\"text-align: right;\">\n",
       "      <th></th>\n",
       "      <th>subreddit</th>\n",
       "      <th>id</th>\n",
       "      <th>body</th>\n",
       "      <th>created_utc</th>\n",
       "      <th>parent_id</th>\n",
       "      <th>date</th>\n",
       "      <th>emotion</th>\n",
       "      <th>probas</th>\n",
       "      <th>reg_output</th>\n",
       "    </tr>\n",
       "  </thead>\n",
       "  <tbody>\n",
       "    <tr>\n",
       "      <th>0</th>\n",
       "      <td>TeslaMotors</td>\n",
       "      <td>hqqtbh2</td>\n",
       "      <td>If help is needed, use our stickied support th...</td>\n",
       "      <td>1.640994e+09</td>\n",
       "      <td>t3_rt6fwg</td>\n",
       "      <td>2022-01-01 00:46:50</td>\n",
       "      <td>AnalyzerOutput(output=NEU, probas={NEU: 0.832,...</td>\n",
       "      <td>[(NEG, 0.0038293171674013138), (NEU, 0.8324310...</td>\n",
       "      <td>0.159910</td>\n",
       "    </tr>\n",
       "    <tr>\n",
       "      <th>1</th>\n",
       "      <td>TeslaMotors</td>\n",
       "      <td>hqqtz7i</td>\n",
       "      <td>Requirements: \\n\\n• Fits under the aero cover ...</td>\n",
       "      <td>1.640995e+09</td>\n",
       "      <td>t3_rt6j33</td>\n",
       "      <td>2022-01-01 00:51:46</td>\n",
       "      <td>AnalyzerOutput(output=NEU, probas={NEU: 0.872,...</td>\n",
       "      <td>[(NEG, 0.11134149879217148), (NEU, 0.871991336...</td>\n",
       "      <td>-0.094674</td>\n",
       "    </tr>\n",
       "    <tr>\n",
       "      <th>2</th>\n",
       "      <td>TeslaMotors</td>\n",
       "      <td>hqqu7z3</td>\n",
       "      <td>Photo credit @rkaplan1 on Twitter</td>\n",
       "      <td>1.640995e+09</td>\n",
       "      <td>t3_rt6kex</td>\n",
       "      <td>2022-01-01 00:53:37</td>\n",
       "      <td>AnalyzerOutput(output=NEU, probas={NEU: 0.922,...</td>\n",
       "      <td>[(NEG, 0.003630931256338954), (NEU, 0.92183905...</td>\n",
       "      <td>0.070899</td>\n",
       "    </tr>\n",
       "    <tr>\n",
       "      <th>3</th>\n",
       "      <td>TeslaMotors</td>\n",
       "      <td>hqqxko8</td>\n",
       "      <td>I've wanted an Apple MagSafe charger in my cen...</td>\n",
       "      <td>1.640996e+09</td>\n",
       "      <td>t3_rt72vs</td>\n",
       "      <td>2022-01-01 01:20:13</td>\n",
       "      <td>AnalyzerOutput(output=NEG, probas={NEG: 0.785,...</td>\n",
       "      <td>[(NEG, 0.784606397151947), (NEU, 0.20615413784...</td>\n",
       "      <td>-0.775367</td>\n",
       "    </tr>\n",
       "    <tr>\n",
       "      <th>4</th>\n",
       "      <td>TeslaMotors</td>\n",
       "      <td>hqr8kka</td>\n",
       "      <td>I see you set your temperature to: NICE.</td>\n",
       "      <td>1.641002e+09</td>\n",
       "      <td>t3_rt8o5j</td>\n",
       "      <td>2022-01-01 02:47:11</td>\n",
       "      <td>AnalyzerOutput(output=POS, probas={POS: 0.675,...</td>\n",
       "      <td>[(NEG, 0.00296275457367301), (NEU, 0.322249382...</td>\n",
       "      <td>0.671825</td>\n",
       "    </tr>\n",
       "    <tr>\n",
       "      <th>...</th>\n",
       "      <td>...</td>\n",
       "      <td>...</td>\n",
       "      <td>...</td>\n",
       "      <td>...</td>\n",
       "      <td>...</td>\n",
       "      <td>...</td>\n",
       "      <td>...</td>\n",
       "      <td>...</td>\n",
       "      <td>...</td>\n",
       "    </tr>\n",
       "    <tr>\n",
       "      <th>168121</th>\n",
       "      <td>TeslaMotors</td>\n",
       "      <td>ie4b81w</td>\n",
       "      <td>Is this with the unreleased beta software? I’m...</td>\n",
       "      <td>1.656459e+09</td>\n",
       "      <td>t3_vn0xq2</td>\n",
       "      <td>2022-06-29 01:24:55</td>\n",
       "      <td>AnalyzerOutput(output=NEG, probas={NEG: 0.778,...</td>\n",
       "      <td>[(NEG, 0.7782235741615295), (NEU, 0.2154842764...</td>\n",
       "      <td>-0.771931</td>\n",
       "    </tr>\n",
       "    <tr>\n",
       "      <th>168122</th>\n",
       "      <td>TeslaMotors</td>\n",
       "      <td>ie4bcyt</td>\n",
       "      <td>No still 10.12.2. Just in another vehicle.</td>\n",
       "      <td>1.656459e+09</td>\n",
       "      <td>t3_vn0yi6</td>\n",
       "      <td>2022-06-29 01:25:58</td>\n",
       "      <td>AnalyzerOutput(output=NEU, probas={NEU: 0.973,...</td>\n",
       "      <td>[(NEG, 0.015009327791631222), (NEU, 0.97261792...</td>\n",
       "      <td>-0.002637</td>\n",
       "    </tr>\n",
       "    <tr>\n",
       "      <th>168123</th>\n",
       "      <td>TeslaMotors</td>\n",
       "      <td>ie4betk</td>\n",
       "      <td>Also wondering this question, would love to re...</td>\n",
       "      <td>1.656459e+09</td>\n",
       "      <td>t3_vn0ysw</td>\n",
       "      <td>2022-06-29 01:26:22</td>\n",
       "      <td>AnalyzerOutput(output=NEU, probas={NEU: 0.719,...</td>\n",
       "      <td>[(NEG, 0.0524548701941967), (NEU, 0.7192255258...</td>\n",
       "      <td>0.175865</td>\n",
       "    </tr>\n",
       "    <tr>\n",
       "      <th>168124</th>\n",
       "      <td>TeslaMotors</td>\n",
       "      <td>ie4nqju</td>\n",
       "      <td>Looks like a bunch of companies are all releas...</td>\n",
       "      <td>1.656465e+09</td>\n",
       "      <td>t3_vn0ysw</td>\n",
       "      <td>2022-06-29 03:03:36</td>\n",
       "      <td>AnalyzerOutput(output=NEU, probas={NEU: 0.903,...</td>\n",
       "      <td>[(NEG, 0.005526799242943525), (NEU, 0.90288501...</td>\n",
       "      <td>0.086061</td>\n",
       "    </tr>\n",
       "    <tr>\n",
       "      <th>168125</th>\n",
       "      <td>TeslaMotors</td>\n",
       "      <td>ie5dkhc</td>\n",
       "      <td>I am an auto enthusiast myself, but this is ju...</td>\n",
       "      <td>1.656478e+09</td>\n",
       "      <td>t3_vn0ysw</td>\n",
       "      <td>2022-06-29 06:48:50</td>\n",
       "      <td>AnalyzerOutput(output=NEG, probas={NEG: 0.975,...</td>\n",
       "      <td>[(NEG, 0.9749175906181335), (NEU, 0.0223366636...</td>\n",
       "      <td>-0.972172</td>\n",
       "    </tr>\n",
       "  </tbody>\n",
       "</table>\n",
       "<p>165110 rows × 9 columns</p>\n",
       "</div>"
      ],
      "text/plain": [
       "          subreddit       id  \\\n",
       "0       TeslaMotors  hqqtbh2   \n",
       "1       TeslaMotors  hqqtz7i   \n",
       "2       TeslaMotors  hqqu7z3   \n",
       "3       TeslaMotors  hqqxko8   \n",
       "4       TeslaMotors  hqr8kka   \n",
       "...             ...      ...   \n",
       "168121  TeslaMotors  ie4b81w   \n",
       "168122  TeslaMotors  ie4bcyt   \n",
       "168123  TeslaMotors  ie4betk   \n",
       "168124  TeslaMotors  ie4nqju   \n",
       "168125  TeslaMotors  ie5dkhc   \n",
       "\n",
       "                                                     body   created_utc  \\\n",
       "0       If help is needed, use our stickied support th...  1.640994e+09   \n",
       "1       Requirements: \\n\\n• Fits under the aero cover ...  1.640995e+09   \n",
       "2                       Photo credit @rkaplan1 on Twitter  1.640995e+09   \n",
       "3       I've wanted an Apple MagSafe charger in my cen...  1.640996e+09   \n",
       "4                I see you set your temperature to: NICE.  1.641002e+09   \n",
       "...                                                   ...           ...   \n",
       "168121  Is this with the unreleased beta software? I’m...  1.656459e+09   \n",
       "168122         No still 10.12.2. Just in another vehicle.  1.656459e+09   \n",
       "168123  Also wondering this question, would love to re...  1.656459e+09   \n",
       "168124  Looks like a bunch of companies are all releas...  1.656465e+09   \n",
       "168125  I am an auto enthusiast myself, but this is ju...  1.656478e+09   \n",
       "\n",
       "        parent_id                date  \\\n",
       "0       t3_rt6fwg 2022-01-01 00:46:50   \n",
       "1       t3_rt6j33 2022-01-01 00:51:46   \n",
       "2       t3_rt6kex 2022-01-01 00:53:37   \n",
       "3       t3_rt72vs 2022-01-01 01:20:13   \n",
       "4       t3_rt8o5j 2022-01-01 02:47:11   \n",
       "...           ...                 ...   \n",
       "168121  t3_vn0xq2 2022-06-29 01:24:55   \n",
       "168122  t3_vn0yi6 2022-06-29 01:25:58   \n",
       "168123  t3_vn0ysw 2022-06-29 01:26:22   \n",
       "168124  t3_vn0ysw 2022-06-29 03:03:36   \n",
       "168125  t3_vn0ysw 2022-06-29 06:48:50   \n",
       "\n",
       "                                                  emotion  \\\n",
       "0       AnalyzerOutput(output=NEU, probas={NEU: 0.832,...   \n",
       "1       AnalyzerOutput(output=NEU, probas={NEU: 0.872,...   \n",
       "2       AnalyzerOutput(output=NEU, probas={NEU: 0.922,...   \n",
       "3       AnalyzerOutput(output=NEG, probas={NEG: 0.785,...   \n",
       "4       AnalyzerOutput(output=POS, probas={POS: 0.675,...   \n",
       "...                                                   ...   \n",
       "168121  AnalyzerOutput(output=NEG, probas={NEG: 0.778,...   \n",
       "168122  AnalyzerOutput(output=NEU, probas={NEU: 0.973,...   \n",
       "168123  AnalyzerOutput(output=NEU, probas={NEU: 0.719,...   \n",
       "168124  AnalyzerOutput(output=NEU, probas={NEU: 0.903,...   \n",
       "168125  AnalyzerOutput(output=NEG, probas={NEG: 0.975,...   \n",
       "\n",
       "                                                   probas  reg_output  \n",
       "0       [(NEG, 0.0038293171674013138), (NEU, 0.8324310...    0.159910  \n",
       "1       [(NEG, 0.11134149879217148), (NEU, 0.871991336...   -0.094674  \n",
       "2       [(NEG, 0.003630931256338954), (NEU, 0.92183905...    0.070899  \n",
       "3       [(NEG, 0.784606397151947), (NEU, 0.20615413784...   -0.775367  \n",
       "4       [(NEG, 0.00296275457367301), (NEU, 0.322249382...    0.671825  \n",
       "...                                                   ...         ...  \n",
       "168121  [(NEG, 0.7782235741615295), (NEU, 0.2154842764...   -0.771931  \n",
       "168122  [(NEG, 0.015009327791631222), (NEU, 0.97261792...   -0.002637  \n",
       "168123  [(NEG, 0.0524548701941967), (NEU, 0.7192255258...    0.175865  \n",
       "168124  [(NEG, 0.005526799242943525), (NEU, 0.90288501...    0.086061  \n",
       "168125  [(NEG, 0.9749175906181335), (NEU, 0.0223366636...   -0.972172  \n",
       "\n",
       "[165110 rows x 9 columns]"
      ]
     },
     "execution_count": 26,
     "metadata": {},
     "output_type": "execute_result"
    }
   ],
   "source": [
    "df"
   ]
  },
  {
   "cell_type": "code",
   "execution_count": 28,
   "metadata": {},
   "outputs": [],
   "source": [
    "#This is done to save the output of the analyzeroutput, so that above code does not have to be run again\n",
    "df.to_csv('Tesla_Comments_Filtered_Analyzed.csv', index=False)"
   ]
  }
 ],
 "metadata": {
  "kernelspec": {
   "display_name": "Python 3",
   "language": "python",
   "name": "python3"
  },
  "language_info": {
   "codemirror_mode": {
    "name": "ipython",
    "version": 3
   },
   "file_extension": ".py",
   "mimetype": "text/x-python",
   "name": "python",
   "nbconvert_exporter": "python",
   "pygments_lexer": "ipython3",
   "version": "3.10.0"
  },
  "orig_nbformat": 4,
  "vscode": {
   "interpreter": {
    "hash": "19f9ddf3622c0b1569490fd927172cf777b9021a692f6f37361c5e5933f47574"
   }
  }
 },
 "nbformat": 4,
 "nbformat_minor": 2
}
