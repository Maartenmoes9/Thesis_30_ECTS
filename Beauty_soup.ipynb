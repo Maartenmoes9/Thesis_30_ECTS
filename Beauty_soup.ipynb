{
 "cells": [
  {
   "cell_type": "code",
   "execution_count": 2,
   "metadata": {},
   "outputs": [
    {
     "name": "stdout",
     "output_type": "stream",
     "text": [
      "Collecting beautifulsoup4\n",
      "  Downloading beautifulsoup4-4.11.2-py3-none-any.whl (129 kB)\n",
      "     ---------------------------------------- 129.4/129.4 kB ? eta 0:00:00\n",
      "Collecting soupsieve>1.2\n",
      "  Downloading soupsieve-2.3.2.post1-py3-none-any.whl (37 kB)\n",
      "Installing collected packages: soupsieve, beautifulsoup4\n",
      "Successfully installed beautifulsoup4-4.11.2 soupsieve-2.3.2.post1\n",
      "Note: you may need to restart the kernel to use updated packages.\n"
     ]
    },
    {
     "name": "stderr",
     "output_type": "stream",
     "text": [
      "\n",
      "[notice] A new release of pip available: 22.2.2 -> 23.0\n",
      "[notice] To update, run: python.exe -m pip install --upgrade pip\n"
     ]
    }
   ],
   "source": [
    "pip install beautifulsoup4"
   ]
  },
  {
   "cell_type": "code",
   "execution_count": 3,
   "metadata": {},
   "outputs": [
    {
     "name": "stdout",
     "output_type": "stream",
     "text": [
      "Requirement already satisfied: requests in c:\\users\\maart\\appdata\\local\\programs\\python\\python310\\lib\\site-packages (2.28.1)Note: you may need to restart the kernel to use updated packages.\n"
     ]
    },
    {
     "name": "stderr",
     "output_type": "stream",
     "text": [
      "\n",
      "[notice] A new release of pip available: 22.2.2 -> 23.0\n",
      "[notice] To update, run: python.exe -m pip install --upgrade pip\n"
     ]
    },
    {
     "name": "stdout",
     "output_type": "stream",
     "text": [
      "\n",
      "Requirement already satisfied: soupsieve in c:\\users\\maart\\appdata\\local\\programs\\python\\python310\\lib\\site-packages (2.3.2.post1)\n",
      "Collecting lxml\n",
      "  Downloading lxml-4.9.2-cp310-cp310-win_amd64.whl (3.8 MB)\n",
      "     ---------------------------------------- 3.8/3.8 MB 26.9 MB/s eta 0:00:00\n",
      "Requirement already satisfied: urllib3<1.27,>=1.21.1 in c:\\users\\maart\\appdata\\local\\programs\\python\\python310\\lib\\site-packages (from requests) (1.26.12)\n",
      "Requirement already satisfied: charset-normalizer<3,>=2 in c:\\users\\maart\\appdata\\local\\programs\\python\\python310\\lib\\site-packages (from requests) (2.1.1)\n",
      "Requirement already satisfied: certifi>=2017.4.17 in c:\\users\\maart\\appdata\\local\\programs\\python\\python310\\lib\\site-packages (from requests) (2022.9.24)\n",
      "Requirement already satisfied: idna<4,>=2.5 in c:\\users\\maart\\appdata\\local\\programs\\python\\python310\\lib\\site-packages (from requests) (3.4)\n",
      "Installing collected packages: lxml\n",
      "Successfully installed lxml-4.9.2\n"
     ]
    }
   ],
   "source": [
    "pip install requests soupsieve lxml"
   ]
  },
  {
   "cell_type": "code",
   "execution_count": 4,
   "metadata": {},
   "outputs": [],
   "source": [
    "from bs4 import BeautifulSoup\n",
    "import requests"
   ]
  },
  {
   "cell_type": "code",
   "execution_count": 6,
   "metadata": {},
   "outputs": [],
   "source": [
    "headers = {'User-Agent':'Mozilla/5.0 (Macintosh; Intel Mac OS X 10_11_2) AppleWebKit/601.3.9 (KHTML, like Gecko) Version/9.0.2 Safari/601.3.9'}\n",
    "url = 'https://www.reddit.com/r/programming/'\n",
    "\n",
    "response=requests.get(url,headers=headers)\n",
    "# print(response.text())"
   ]
  },
  {
   "cell_type": "code",
   "execution_count": 7,
   "metadata": {},
   "outputs": [
    {
     "name": "stdout",
     "output_type": "stream",
     "text": [
      "----------------------------------------\n",
      "152\n",
      "----------------------------------------\n",
      "4\n",
      "----------------------------------------\n",
      "366\n",
      "----------------------------------------\n",
      "560\n",
      "----------------------------------------\n",
      "97\n",
      "----------------------------------------\n",
      "44\n",
      "----------------------------------------\n",
      "8\n"
     ]
    }
   ],
   "source": [
    "soup=BeautifulSoup(response.content,'lxml')\n",
    "\n",
    "#print(soup.select('.Post')[0].get_text())\n",
    "\n",
    "for item in soup.select('.Post'):\n",
    "\ttry:\n",
    "\t\tprint('----------------------------------------')\n",
    "\t\tprint(item.select('._1rZYMD_4xY3gRcSS3p8ODO')[0].get_text())\n",
    "\n",
    "\n",
    "\texcept Exception as e:\n",
    "\t\t#raise e\n",
    "\t\tprint('')"
   ]
  },
  {
   "cell_type": "code",
   "execution_count": 8,
   "metadata": {},
   "outputs": [
    {
     "ename": "TabError",
     "evalue": "inconsistent use of tabs and spaces in indentation (3614259677.py, line 11)",
     "output_type": "error",
     "traceback": [
      "\u001b[1;36m  Cell \u001b[1;32mIn [8], line 11\u001b[1;36m\u001b[0m\n\u001b[1;33m    print(item.select('._2INHSNB8V5eaWp4P0rY_mE a[href]')[0]['href'])\u001b[0m\n\u001b[1;37m                                                                     ^\u001b[0m\n\u001b[1;31mTabError\u001b[0m\u001b[1;31m:\u001b[0m inconsistent use of tabs and spaces in indentation\n"
     ]
    }
   ],
   "source": [
    "soup=BeautifulSoup(response.content,'lxml')\n",
    "\n",
    "#print(soup.select('.Post')[0].get_text())\n",
    "\n",
    "for item in soup.select('.Post'):\n",
    "\ttry:\n",
    "\t\tprint('----------------------------------------')\n",
    "\t\tprint(item.select('._1rZYMD_4xY3gRcSS3p8ODO')[0].get_text())\n",
    "\t\tprint(item.select('._eYtD2XCVieq6emjKBH3m')[0].get_text())\n",
    "\t\tprint(item.select('.FHCV02u6Cp2zYL0fhQPsO')[0].get_text())\n",
    " \t\tprint(item.select('._2INHSNB8V5eaWp4P0rY_mE a[href]')[0]['href'])\n",
    "\n",
    "\texcept Exception as e:\n",
    "\t\t#raise e\n",
    "\t\tprint('')"
   ]
  },
  {
   "cell_type": "code",
   "execution_count": null,
   "metadata": {},
   "outputs": [],
   "source": []
  }
 ],
 "metadata": {
  "kernelspec": {
   "display_name": "Python 3",
   "language": "python",
   "name": "python3"
  },
  "language_info": {
   "codemirror_mode": {
    "name": "ipython",
    "version": 3
   },
   "file_extension": ".py",
   "mimetype": "text/x-python",
   "name": "python",
   "nbconvert_exporter": "python",
   "pygments_lexer": "ipython3",
   "version": "3.10.0"
  },
  "orig_nbformat": 4,
  "vscode": {
   "interpreter": {
    "hash": "19f9ddf3622c0b1569490fd927172cf777b9021a692f6f37361c5e5933f47574"
   }
  }
 },
 "nbformat": 4,
 "nbformat_minor": 2
}
